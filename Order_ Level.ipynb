{
 "cells": [
  {
   "cell_type": "code",
   "execution_count": null,
   "id": "eca204df-1066-440b-96c3-e919f8e3b269",
   "metadata": {},
   "outputs": [],
   "source": [
    "import pandas as pd\n",
    "path = \"F:/8th sem/Cleaning of Data & Merging into single excel/Payout Summary & Order Level Sales/invoice_Annexure_408_09042025_1744207092917.xlsx\"\n",
    "df = pd.read_excel(path, sheet_name='Order Level')\n",
    "fn = path[91:139]"
   ]
  },
  {
   "cell_type": "code",
   "execution_count": null,
   "id": "ecea3976-e714-4565-a176-1d3257d1b69d",
   "metadata": {},
   "outputs": [],
   "source": [
    "df"
   ]
  },
  {
   "cell_type": "code",
   "execution_count": null,
   "id": "82fd8c23-459c-4535-87f0-84e7794cb744",
   "metadata": {},
   "outputs": [],
   "source": [
    "df = df.drop(df.index[0:1])\n",
    "df = df.fillna(0)"
   ]
  },
  {
   "cell_type": "code",
   "execution_count": null,
   "id": "e204fe2d-5f1f-4f97-9607-31c843f525bc",
   "metadata": {},
   "outputs": [],
   "source": [
    "df.columns = df.iloc[0]   \n",
    "df = df[1:].reset_index(drop=True)"
   ]
  },
  {
   "cell_type": "code",
   "execution_count": null,
   "id": "357a47ce-64e8-4015-be33-357b31ee4251",
   "metadata": {},
   "outputs": [],
   "source": [
    "df"
   ]
  },
  {
   "cell_type": "code",
   "execution_count": null,
   "id": "17311490-5ad9-4fb5-9756-9784b6d8463e",
   "metadata": {},
   "outputs": [],
   "source": [
    "import pandas as pd\n",
    "df1 = pd.read_excel(\"F:/8th sem/Cleaning of Data & Merging into single excel/cleaned payout & summary files/summary.xlsx files/Summary.xlsx\", sheet_name=0)\n"
   ]
  },
  {
   "cell_type": "code",
   "execution_count": null,
   "id": "cfe0c550-655d-4a2c-bdef-cbc078809d5c",
   "metadata": {},
   "outputs": [],
   "source": [
    "columns_names = ['City', 'Location', 'Payout Settlement Date', 'Total Orders (Delivered + Cancelled)', 'Bank UTR']\n",
    "df1 = df1.drop(columns=columns_names)"
   ]
  },
  {
   "cell_type": "code",
   "execution_count": null,
   "id": "4e7bffa3-6040-4dc7-b67a-d1e872a95089",
   "metadata": {},
   "outputs": [],
   "source": [
    "df1[\"FileName\"]= fn "
   ]
  },
  {
   "cell_type": "code",
   "execution_count": null,
   "id": "5388bf8a-0f5f-44d5-b543-6287a0c1bc46",
   "metadata": {},
   "outputs": [],
   "source": [
    "df2 = pd.concat([df1, df], ignore_index=True) \n",
    "df2"
   ]
  },
  {
   "cell_type": "code",
   "execution_count": null,
   "id": "6c0f1786-e210-4d2a-9cf0-601747ca4b15",
   "metadata": {},
   "outputs": [],
   "source": [
    "value = df2.loc[0,'Brand']\n",
    "df2.loc[0:,'Brand'] = value\n",
    "value = df2.loc[0,'Res-Id']\n",
    "df2.loc[0:,'Res-Id'] = value\n",
    "value = df2.loc[0,'Payout Period']\n",
    "df2.loc[0:,'Payout Period'] = value\n",
    "value = df2.loc[0,'Total Payout']\n",
    "df2.loc[0:,'Total Payout'] = value\n",
    "value = df2.loc[0,'FileName']\n",
    "df2.loc[0:,'FileName'] = value\n",
    "#df2.loc[0,'Brand']='Alpha Biryani'\n",
    "#df2['Brand'] = df['Brand'].fillna(method='ffill')"
   ]
  },
  {
   "cell_type": "code",
   "execution_count": null,
   "id": "9eea05b5-1ab4-4192-8995-bfac145ee0e8",
   "metadata": {},
   "outputs": [],
   "source": [
    "df2 = df2.drop(df2.index[0])"
   ]
  },
  {
   "cell_type": "code",
   "execution_count": null,
   "id": "85ea673f-d323-4c7b-801e-68ef1b8ed959",
   "metadata": {},
   "outputs": [],
   "source": [
    "df2"
   ]
  },
  {
   "cell_type": "code",
   "execution_count": null,
   "id": "7627ab17-8178-48d3-9923-67dd51b68ddb",
   "metadata": {},
   "outputs": [],
   "source": [
    "df2.to_excel(\"F:/8th sem/Cleaning of Data & Merging into single excel/cleaned payout & summary files/order level.xlsx files/order level.xlsx\", index=False)"
   ]
  }
 ],
 "metadata": {
  "kernelspec": {
   "display_name": "Python 3 (ipykernel)",
   "language": "python",
   "name": "python3"
  },
  "language_info": {
   "codemirror_mode": {
    "name": "ipython",
    "version": 3
   },
   "file_extension": ".py",
   "mimetype": "text/x-python",
   "name": "python",
   "nbconvert_exporter": "python",
   "pygments_lexer": "ipython3",
   "version": "3.11.7"
  },
  "widgets": {
   "application/vnd.jupyter.widget-state+json": {
    "state": {},
    "version_major": 2,
    "version_minor": 0
   }
  }
 },
 "nbformat": 4,
 "nbformat_minor": 5
}
